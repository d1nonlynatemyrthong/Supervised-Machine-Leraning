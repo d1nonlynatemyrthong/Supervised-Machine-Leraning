{
 "cells": [
  {
   "cell_type": "code",
   "execution_count": 1,
   "id": "86311e78-6d01-4e55-a655-277823d45001",
   "metadata": {},
   "outputs": [],
   "source": [
    "import pandas as pd\n",
    "from sklearn.model_selection import train_test_split\n",
    "from sklearn.preprocessing import StandardScaler\n",
    "from sklearn.pipeline import Pipeline\n",
    "from sklearn.neighbors import KNeighborsClassifier\n",
    "from sklearn.linear_model import LogisticRegression\n",
    "from sklearn.tree import DecisionTreeClassifier, plot_tree\n",
    "from sklearn.ensemble import RandomForestClassifier\n",
    "from sklearn.svm import SVC\n",
    "from sklearn.naive_bayes import GaussianNB\n",
    "from sklearn.metrics import accuracy_score, mean_squared_error, f1_score\n",
    "import matplotlib.pyplot as plt"
   ]
  },
  {
   "cell_type": "code",
   "execution_count": 2,
   "id": "4f7d0083-3beb-472d-9a96-bb08ace4a536",
   "metadata": {},
   "outputs": [],
   "source": [
    "df=pd.read_csv(\"titanic.csv\")\n",
    "df=df[[\"Age\",\"Sex\",\"Pclass\",\"Survived\"]]"
   ]
  },
  {
   "cell_type": "code",
   "execution_count": 3,
   "id": "a0dad2ee-e865-4969-bd40-d72943ca8960",
   "metadata": {},
   "outputs": [],
   "source": [
    "df.dropna(inplace=True)\n",
    "df[\"Age\"].astype(int)\n",
    "df[\"Sex\"]=df[\"Sex\"].map({\"male\":0,\"female\":1})"
   ]
  },
  {
   "cell_type": "code",
   "execution_count": 4,
   "id": "3b3c7ce9-86d6-47c1-98dc-da0502762cc8",
   "metadata": {},
   "outputs": [],
   "source": [
    "x=df[[\"Age\",\"Sex\",\"Pclass\"]]\n",
    "y=df[\"Survived\"]"
   ]
  },
  {
   "cell_type": "code",
   "execution_count": 5,
   "id": "4f572f56-0ed7-48cc-89bd-1caa2dbcd51a",
   "metadata": {},
   "outputs": [],
   "source": [
    "x_train, x_test, y_train, y_test=train_test_split(x,y,random_state=42)"
   ]
  },
  {
   "cell_type": "code",
   "execution_count": 6,
   "id": "5c0f19dd-86b0-4832-a06a-43492ad9c9fc",
   "metadata": {},
   "outputs": [],
   "source": [
    "models={\n",
    "    \"Logistic Regression\":LogisticRegression(),\n",
    "    \"K-Nearest Neighbours\": KNeighborsClassifier(),\n",
    "    \"Decision Tree\": DecisionTreeClassifier(),\n",
    "    \"Random Forest\": RandomForestClassifier(),\n",
    "    \"SVM\": SVC(),\n",
    "    \"Naive Bayes\":GaussianNB()\n",
    "}"
   ]
  },
  {
   "cell_type": "code",
   "execution_count": 8,
   "id": "7dd48c50-6646-424d-a7e6-b510d4b6669f",
   "metadata": {},
   "outputs": [
    {
     "name": "stdout",
     "output_type": "stream",
     "text": [
      "Prediction using different models for new passenger\n",
      "             Model Name  Accuracy  f1 score     MSE    Prediction\n",
      "0   Logistic Regression    0.7709    0.7133  0.2291      Survived\n",
      "1  K-Nearest Neighbours    0.7709    0.6963  0.2291      Survived\n",
      "2         Random Forest    0.7709    0.7092  0.2291  Not Survived\n",
      "3                   SVM    0.7709    0.6917  0.2291      Survived\n",
      "4         Decision Tree    0.7654    0.6957  0.2346  Not Survived\n",
      "5           Naive Bayes    0.7654    0.7000  0.2346      Survived\n"
     ]
    }
   ],
   "source": [
    "result=[]\n",
    "new=pd.DataFrame([[20,1,3]],columns=['Age',\"Sex\",\"Pclass\"])\n",
    "for name, model in models.items():\n",
    "    pl=Pipeline([\n",
    "        ('scaler',StandardScaler()),\n",
    "        ('classifier',model)\n",
    "    ])\n",
    "    pl.fit(x_train,y_train)\n",
    "    y_pred=pl.predict(x_test)\n",
    "    prediction=pl.predict(new)[0]\n",
    "    result.append({\n",
    "    'Model Name': name,\n",
    "    'Accuracy': round(accuracy_score(y_test,y_pred),4),\n",
    "    'f1 score': round(f1_score(y_test,y_pred),4),\n",
    "    'MSE': round(mean_squared_error(y_test,y_pred),4),\n",
    "    'Prediction': \"Survived\" if prediction==1 else 'Not Survived'\n",
    "    })\n",
    "print('Prediction using different models for new passenger')\n",
    "result_df=pd.DataFrame(result).sort_values(by='Accuracy',ascending=False)\n",
    "print(result_df.reset_index(drop=True))"
   ]
  },
  {
   "cell_type": "code",
   "execution_count": 9,
   "id": "32c9658d-ccb7-451c-9c65-fbae01d82ed9",
   "metadata": {},
   "outputs": [
    {
     "ename": "NameError",
     "evalue": "name 'X_train' is not defined",
     "output_type": "error",
     "traceback": [
      "\u001b[1;31m---------------------------------------------------------------------------\u001b[0m",
      "\u001b[1;31mNameError\u001b[0m                                 Traceback (most recent call last)",
      "Cell \u001b[1;32mIn[9], line 6\u001b[0m\n\u001b[0;32m      1\u001b[0m tree_model \u001b[38;5;241m=\u001b[39m models[\u001b[38;5;124m\"\u001b[39m\u001b[38;5;124mDecision Tree\u001b[39m\u001b[38;5;124m\"\u001b[39m]\n\u001b[0;32m      2\u001b[0m tree_pipeline \u001b[38;5;241m=\u001b[39m Pipeline([\n\u001b[0;32m      3\u001b[0m     (\u001b[38;5;124m'\u001b[39m\u001b[38;5;124mscaler\u001b[39m\u001b[38;5;124m'\u001b[39m, StandardScaler()),\n\u001b[0;32m      4\u001b[0m     (\u001b[38;5;124m'\u001b[39m\u001b[38;5;124mclassifier\u001b[39m\u001b[38;5;124m'\u001b[39m, tree_model)\n\u001b[0;32m      5\u001b[0m ])\n\u001b[1;32m----> 6\u001b[0m tree_pipeline\u001b[38;5;241m.\u001b[39mfit(X_train, y_train)\n\u001b[0;32m      7\u001b[0m plt\u001b[38;5;241m.\u001b[39mfigure(figsize\u001b[38;5;241m=\u001b[39m(\u001b[38;5;241m16\u001b[39m, \u001b[38;5;241m8\u001b[39m))\n\u001b[0;32m      8\u001b[0m plot_tree(tree_pipeline\u001b[38;5;241m.\u001b[39mnamed_steps[\u001b[38;5;124m'\u001b[39m\u001b[38;5;124mclassifier\u001b[39m\u001b[38;5;124m'\u001b[39m],\n\u001b[0;32m      9\u001b[0m           feature_names\u001b[38;5;241m=\u001b[39m[\u001b[38;5;124m'\u001b[39m\u001b[38;5;124mage\u001b[39m\u001b[38;5;124m'\u001b[39m, \u001b[38;5;124m'\u001b[39m\u001b[38;5;124msex\u001b[39m\u001b[38;5;124m'\u001b[39m, \u001b[38;5;124m'\u001b[39m\u001b[38;5;124mpclass\u001b[39m\u001b[38;5;124m'\u001b[39m],\n\u001b[0;32m     10\u001b[0m           class_names\u001b[38;5;241m=\u001b[39m[\u001b[38;5;124m'\u001b[39m\u001b[38;5;124mNot Survived\u001b[39m\u001b[38;5;124m'\u001b[39m, \u001b[38;5;124m'\u001b[39m\u001b[38;5;124mSurvived\u001b[39m\u001b[38;5;124m'\u001b[39m],\n\u001b[0;32m     11\u001b[0m           filled\u001b[38;5;241m=\u001b[39m\u001b[38;5;28;01mTrue\u001b[39;00m, rounded\u001b[38;5;241m=\u001b[39m\u001b[38;5;28;01mTrue\u001b[39;00m)\n",
      "\u001b[1;31mNameError\u001b[0m: name 'X_train' is not defined"
     ]
    }
   ],
   "source": [
    "tree_model = models[\"Decision Tree\"]\n",
    "tree_pipeline = Pipeline([\n",
    "    ('scaler', StandardScaler()),\n",
    "    ('classifier', tree_model)\n",
    "])\n",
    "tree_pipeline.fit(X_train, y_train)\n",
    "plt.figure(figsize=(16, 8))\n",
    "plot_tree(tree_pipeline.named_steps['classifier'],\n",
    "          feature_names=['age', 'sex', 'pclass'],\n",
    "          class_names=['Not Survived', 'Survived'],\n",
    "          filled=True, rounded=True)\n",
    "plt.title(\"Decision Tree Visualization\")\n",
    "plt.show()"
   ]
  },
  {
   "cell_type": "code",
   "execution_count": null,
   "id": "5eaec61e-cbe4-4dda-a448-d4f675c74cfd",
   "metadata": {},
   "outputs": [],
   "source": []
  }
 ],
 "metadata": {
  "kernelspec": {
   "display_name": "Python [conda env:base] *",
   "language": "python",
   "name": "conda-base-py"
  },
  "language_info": {
   "codemirror_mode": {
    "name": "ipython",
    "version": 3
   },
   "file_extension": ".py",
   "mimetype": "text/x-python",
   "name": "python",
   "nbconvert_exporter": "python",
   "pygments_lexer": "ipython3",
   "version": "3.12.7"
  }
 },
 "nbformat": 4,
 "nbformat_minor": 5
}
